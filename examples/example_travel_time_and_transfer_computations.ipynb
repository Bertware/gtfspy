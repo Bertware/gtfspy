{
 "cells": [
  {
   "cell_type": "markdown",
   "metadata": {},
   "source": [
    "## Setting up the travel time and transfer computations"
   ]
  },
  {
   "cell_type": "code",
   "execution_count": 1,
   "metadata": {
    "scrolled": true
   },
   "outputs": [
    {
     "name": "stdout",
     "output_type": "stream",
     "text": [
      "stop_Is of the departure and arrival stops:  162 3\n"
     ]
    }
   ],
   "source": [
    "import sys\n",
    "sys.path.append(\"../\")\n",
    "\n",
    "from matplotlib import pyplot as plt\n",
    "from matplotlib import rc\n",
    "\n",
    "import example_import\n",
    "from gtfspy.routing.helpers import get_transit_connections, get_walk_network\n",
    "from gtfspy.routing.multi_objective_pseudo_connection_scan_profiler import MultiObjectivePseudoCSAProfiler\n",
    "from gtfspy.routing.node_profile_analyzer_time_and_veh_legs import NodeProfileAnalyzerTimeAndVehLegs\n",
    "\n",
    "G = example_import.load_or_import_example_gtfs()\n",
    "\n",
    "from_stop_name = \"Ahkiotie 2 E\"\n",
    "to_stop_name = \"Kauppahalli P\"\n",
    "from_stop_I = None\n",
    "to_stop_I = None\n",
    "stop_dict = G.stops().to_dict(\"index\")\n",
    "for stop_I, data in stop_dict.items():\n",
    "    if data['name'] == from_stop_name:\n",
    "        from_stop_I = stop_I\n",
    "    if data['name'] == to_stop_name:\n",
    "        to_stop_I = stop_I\n",
    "assert (from_stop_I is not None)\n",
    "assert (to_stop_I is not None)\n",
    "\n",
    "print(\"stop_Is of the departure and arrival stops: \", from_stop_I, to_stop_I)\n",
    "\n",
    "# The start and end times between which PT operations (and footpaths) are scanned:\n",
    "ANALYSIS_START_TIME_UT = G.get_suitable_date_for_daily_extract(ut=True) + 10 * 3600\n",
    "# Analyze tremporal distances / travel times for one hour departure time interval:\n",
    "ANALYSIS_END_TIME_UT = ANALYSIS_START_TIME_UT + 1 * 3600\n",
    "# Normally scanning of PT connections (i.e. \"routing\") should start at the same time of the analysis start time:\n",
    "CONNECTION_SCAN_START_TIME_UT = ANALYSIS_START_TIME_UT\n",
    "# Consider only journey alternatives that arrive to the destination at most two hours\n",
    "# later than last departure time of interest:\n",
    "CONNECTION_SCAN_END_TIME_UT = ANALYSIS_END_TIME_UT + 2 * 3600\n",
    "\n",
    "connections = get_transit_connections(G, CONNECTION_SCAN_START_TIME_UT, CONNECTION_SCAN_END_TIME_UT)\n",
    "MAX_WALK_LENGTH = 1000\n",
    "# Get the walking network with all stop-pairs that are less than 1000 meters apart.\n",
    "walk_network = get_walk_network(G, MAX_WALK_LENGTH)\n",
    "\n",
    "# Note that if you would want enable longer walking distances, e.g. 2000 meters, \n",
    "# then you may need to recompute the footpath lengths between stops with \n",
    "# gtfspy.osm_transfers.add_walk_distances_to_db_python(..., cutoff_distance_m=2000).\n"
   ]
  },
  {
   "cell_type": "markdown",
   "metadata": {},
   "source": [
    "## Computation of Pareto-optimal journey alternatives"
   ]
  },
  {
   "cell_type": "code",
   "execution_count": 2,
   "metadata": {},
   "outputs": [
    {
     "name": "stdout",
     "output_type": "stream",
     "text": [
      "using label: <class 'gtfspy.routing.label.LabelTimeWithBoardingsCount'>\n",
      "timeit: '__compute_stop_dep_and_arrival_times' 0.01 sec \n",
      "Started computing pseudoconnections\n",
      "Computed pseudoconnections\n",
      "timeit: '__compute_pseudo_connections' 0.33 sec \n",
      "timeit: '_add_pseudo_connection_departures_to_stop_departure_times' 0.04 sec \n",
      "timeit: '_augment_all_connections_with_arrival_stop_next_dep_time' 0.33 sec \n",
      "timeit: '__initialize_node_profiles' 0.03 sec \n",
      " 44000 / 44739  :  0.98finalizing profiles!\n",
      "timeit: '_run' 1.89 sec \n",
      "timeit: 'run' 1.89 sec ('(<gtfspy.routing.mul', {}) \n"
     ]
    }
   ],
   "source": [
    "\n",
    "mpCSA = MultiObjectivePseudoCSAProfiler(connections,\n",
    "                                        targets=[to_stop_I],\n",
    "                                        start_time_ut=CONNECTION_SCAN_START_TIME_UT,\n",
    "                                        end_time_ut=CONNECTION_SCAN_END_TIME_UT,\n",
    "                                        transfer_margin=120,  # seconds\n",
    "                                        walk_network=walk_network,\n",
    "                                        walk_speed=1.5,  # meters per second\n",
    "                                        verbose=True,\n",
    "                                        track_vehicle_legs=True,\n",
    "                                        track_time=True)\n",
    "\n",
    "mpCSA.run()"
   ]
  },
  {
   "cell_type": "markdown",
   "metadata": {},
   "source": [
    "## Computing travel time statistics based on the Pareto-optimal journey alternatives"
   ]
  },
  {
   "cell_type": "code",
   "execution_count": 3,
   "metadata": {},
   "outputs": [
    {
     "name": "stdout",
     "output_type": "stream",
     "text": [
      "Origin:\n",
      " {'code': None, 'lon': 27.642538, 'desc': None, 'location_type': None, 'self_or_parent_I': 163, 'parent_I': None, 'wheelchair_boarding': None, 'stop_I': 163, 'lat': 62.907265, 'stop_id': '201259', 'name': 'Ahkiotie 2 E'}\n",
      "Destination:\n",
      " {'code': None, 'lon': 27.677356, 'desc': None, 'location_type': None, 'self_or_parent_I': 4, 'parent_I': None, 'wheelchair_boarding': None, 'stop_I': 4, 'lat': 62.891996, 'stop_id': '303022', 'name': 'Kauppahalli P'}\n",
      "\n",
      "Results\n",
      "-------\n",
      "Minimum temporal distance: 16.42 minutes\n",
      "Mean temporal distance: 27.58 minutes\n",
      "Median temporal distance: 27.27 minutes\n",
      "Maximum temporal distance: 39.35 minutes\n"
     ]
    }
   ],
   "source": [
    "profiles = mpCSA.stop_profiles\n",
    "\n",
    "# Set up the analyzer for one origin-destination pair:\n",
    "departure_stop_profile = profiles[from_stop_I]\n",
    "direct_walk_duration = departure_stop_profile.get_walk_to_target_duration()\n",
    "# This equals inf, if walking distance between the departure_stop (from_stop_I) and target_stop (to_stop_I)\n",
    "# is longer than MAX_WALK_LENGTH\n",
    "analyzer = NodeProfileAnalyzerTimeAndVehLegs(departure_stop_profile.get_final_optimal_labels(),\n",
    "                                             direct_walk_duration,\n",
    "                                             ANALYSIS_START_TIME_UT,\n",
    "                                             ANALYSIS_END_TIME_UT)\n",
    "\n",
    "# Print out results:\n",
    "print(\"Origin:\\n\", stop_dict[from_stop_I])\n",
    "print(\"Destination:\\n\", stop_dict[to_stop_I])\n",
    "print(\"\\nResults\\n-------\")\n",
    "print(\"Minimum temporal distance: %.2f minutes\" % (analyzer.min_temporal_distance() / 60.))\n",
    "print(\"Mean temporal distance: %.2f minutes\" % (analyzer.mean_temporal_distance() / 60.))\n",
    "print(\"Median temporal distance: %.2f minutes\" % (analyzer.median_temporal_distance() / 60.))\n",
    "print(\"Maximum temporal distance: %.2f minutes\" % (analyzer.max_temporal_distance() / 60.))\n",
    "# Note that the mean and max temporal distances have the value of `direct_walk_duration`,\n",
    "# if there are no journey alternatives departing after (or at the same time as) `ANALYSIS_END_TIME_UT`.\n",
    "# Thus, if you obtain a float('inf') value for some of the temporal distance measures, it could probably be\n",
    "# avoided by increasing the value of PT_CONNECTIONS_SCANNING_END_TIME_UT (while taking care that\n",
    "# The median temporal distance is often more robust to this kind of service level variations.\n"
   ]
  },
  {
   "cell_type": "markdown",
   "metadata": {},
   "source": [
    "## Plotting temporal distance (~travel time) profile between an OD-pair"
   ]
  },
  {
   "cell_type": "code",
   "execution_count": 5,
   "metadata": {},
   "outputs": [
    {
     "name": "stdout",
     "output_type": "stream",
     "text": [
      "Plotting...\n",
      "Showing...\n"
     ]
    },
    {
     "data": {
      "image/png": "[encoded data removed]",
      "text/plain": [
       "<matplotlib.figure.Figure at 0x109bdfb70>"
      ]
     },
     "metadata": {},
     "output_type": "display_data"
    }
   ],
   "source": [
    "timezone_pytz = G.get_timezone_pytz()\n",
    "print(\"Plotting...\")\n",
    "\n",
    "# use tex in plotting\n",
    "rc(\"text\", usetex=True)\n",
    "fig = plt.figure(figsize=(12,4))\n",
    "ax1 = fig.add_subplot(121)\n",
    "ax2 = fig.add_subplot(122)\n",
    "ax1 = analyzer.plot_new_transfer_temporal_distance_profile(timezone=timezone_pytz,\n",
    "                                                            format_string=\"%H:%M\", ax=ax1)\n",
    "ax2 = analyzer.plot_temporal_distance_pdf_horizontal(use_minutes=True, ax=ax2)\n",
    "ax2.set_xlabel(\"\")\n",
    "ax1.set_ylim(0,50)\n",
    "ax2.set_ylim(0,50)\n",
    "ax2.set_xlim(0,0.1)\n",
    "ax2.set_xlabel(r\"PDF($\\tau$)\")\n",
    "ax2.set_ylabel(r\"Temporal distance $\\tau$\")\n",
    "print(\"Showing...\")\n",
    "plt.show()"
   ]
  }
 ],
 "metadata": {
  "kernelspec": {
   "display_name": "Python 3",
   "language": "python",
   "name": "python3"
  },
  "language_info": {
   "codemirror_mode": {
    "name": "ipython",
    "version": 3
   },
   "file_extension": ".py",
   "mimetype": "text/x-python",
   "name": "python",
   "nbconvert_exporter": "python",
   "pygments_lexer": "ipython3",
   "version": "3.5.3"
  }
 },
 "nbformat": 4,
 "nbformat_minor": 2
}
